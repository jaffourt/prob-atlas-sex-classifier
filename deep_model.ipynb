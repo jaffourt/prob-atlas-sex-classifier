{
 "cells": [
  {
   "cell_type": "code",
   "execution_count": 1,
   "id": "handled-table",
   "metadata": {},
   "outputs": [],
   "source": [
    "from Dataset import Dataset\n",
    "import numpy as np"
   ]
  },
  {
   "cell_type": "code",
   "execution_count": 2,
   "id": "wooden-contact",
   "metadata": {},
   "outputs": [
    {
     "name": "stderr",
     "output_type": "stream",
     "text": [
      "  3%|▎         | 25/812 [00:00<00:03, 243.39it/s]"
     ]
    },
    {
     "name": "stdout",
     "output_type": "stream",
     "text": [
      "Loading nifti files from dir: SN_betaweights_n812\n",
      "Found 812 files in directory\n",
      "Loading nifti...\n"
     ]
    },
    {
     "name": "stderr",
     "output_type": "stream",
     "text": [
      "100%|██████████| 812/812 [00:02<00:00, 295.23it/s]\n"
     ]
    }
   ],
   "source": [
    "# dataset = Dataset(data='dataset.pkl')\n",
    "dataset = Dataset(dir='SN_betaweights_n812')\n",
    "data = dataset.data"
   ]
  },
  {
   "cell_type": "code",
   "execution_count": 3,
   "id": "clinical-ladder",
   "metadata": {},
   "outputs": [
    {
     "name": "stderr",
     "output_type": "stream",
     "text": [
      "<ipython-input-3-697457e25857>:2: DeprecationWarning: get_data() is deprecated in favor of get_fdata(), which has a more predictable return type. To obtain get_data() behavior going forward, use numpy.asanyarray(img.dataobj).\n",
      "\n",
      "* deprecated from version: 3.0\n",
      "* Will raise <class 'nibabel.deprecator.ExpiredDeprecationError'> as of version: 5.0\n",
      "  mask = nib.load('language_ROIs.nii').get_data() > 0\n"
     ]
    }
   ],
   "source": [
    "import nibabel as nib\n",
    "mask = nib.load('language_ROIs.nii').get_data() > 0\n",
    "data = []\n",
    "labels = []\n",
    "\n",
    "for label, mmap in dataset.data:\n",
    "    masked = mmap[mask]\n",
    "    masked[np.isnan(masked)] = 0\n",
    "    data.append(masked)\n",
    "    labels.append(label)\n",
    "data = np.array(data)"
   ]
  },
  {
   "cell_type": "code",
   "execution_count": 4,
   "id": "accepting-benjamin",
   "metadata": {},
   "outputs": [],
   "source": [
    "# labels\n",
    "from sklearn.preprocessing import LabelEncoder\n",
    "le = LabelEncoder()\n",
    "le.fit(labels)\n",
    "labels = le.transform(labels)\n",
    "\n",
    "from sklearn.model_selection import train_test_split\n",
    "X_train, X_test, y_train, y_test = train_test_split(data, labels, test_size=0.2, random_state=42)"
   ]
  },
  {
   "cell_type": "code",
   "execution_count": 23,
   "id": "controlling-fairy",
   "metadata": {},
   "outputs": [
    {
     "name": "stdout",
     "output_type": "stream",
     "text": [
      "Epoch 1/5\n",
      "217/217 [==============================] - 1s 2ms/step - loss: 0.7971 - accuracy: 0.5639\n",
      "Epoch 2/5\n",
      "217/217 [==============================] - 0s 2ms/step - loss: 0.6259 - accuracy: 0.6471\n",
      "Epoch 3/5\n",
      "217/217 [==============================] - 1s 2ms/step - loss: 0.6158 - accuracy: 0.6795\n",
      "Epoch 4/5\n",
      "217/217 [==============================] - 1s 3ms/step - loss: 0.5321 - accuracy: 0.7442\n",
      "Epoch 5/5\n",
      "217/217 [==============================] - 0s 2ms/step - loss: 0.4612 - accuracy: 0.7874\n",
      "6/6 [==============================] - 0s 2ms/step - loss: 0.8263 - accuracy: 0.5890\n"
     ]
    }
   ],
   "source": [
    "import tensorflow as tf\n",
    "from tensorflow import keras\n",
    "\n",
    "model = keras.Sequential([\n",
    "    keras.layers.Dense(12, activation='relu'),\n",
    "    keras.layers.Dense(8, activation='relu'),\n",
    "    keras.layers.Dense(1, activation='sigmoid'),\n",
    "    ])\n",
    "# model.compile(optimizer='adam',\n",
    "#               loss=tf.keras.losses.SparseCategoricalCrossentropy(from_logits=True),\n",
    "#               metrics=['accuracy'])\n",
    "\n",
    "model.compile(loss='binary_crossentropy', optimizer='adam', metrics=['accuracy'])\n",
    "model.fit(X_train, y_train, epochs=5, batch_size=3)\n",
    "test_loss, test_acc = model.evaluate(X_test, y_test, verbose=1)"
   ]
  }
 ],
 "metadata": {
  "kernelspec": {
   "display_name": "Python 3",
   "language": "python",
   "name": "python3"
  },
  "language_info": {
   "codemirror_mode": {
    "name": "ipython",
    "version": 3
   },
   "file_extension": ".py",
   "mimetype": "text/x-python",
   "name": "python",
   "nbconvert_exporter": "python",
   "pygments_lexer": "ipython3",
   "version": "3.9.5"
  }
 },
 "nbformat": 4,
 "nbformat_minor": 5
}
